{
 "cells": [
  {
   "cell_type": "code",
   "execution_count": 1,
   "metadata": {},
   "outputs": [
    {
     "name": "stdout",
     "output_type": "stream",
     "text": [
      "#include  <iostream>\r\n",
      "#include  <fstream>\r\n",
      "using namespace std;\r\n",
      "int main  ()\r\n",
      "{\r\n",
      "  ofstream  myfile, myfile2;\r\n",
      "  myfile.open (\"example.txt\");\r\n",
      "  myfile  <<  \"Writing  this  to  a file.\\n\";\r\n",
      "  myfile.close();\r\n",
      "  myfile2.open (\"example.txt\",ios::app);\r\n",
      "  myfile2  <<  \"Appending  2nd line this  to same file.\\n\";\r\n",
      "  myfile2.close();\r\n",
      "  return  0;\r\n",
      "}\r\n",
      "\r\n"
     ]
    }
   ],
   "source": [
    "!cat fileWrite.cpp"
   ]
  },
  {
   "cell_type": "code",
   "execution_count": 2,
   "metadata": {},
   "outputs": [
    {
     "name": "stdout",
     "output_type": "stream",
     "text": [
      "Writing write.cpp\n"
     ]
    }
   ],
   "source": [
    "%%writefile write.cpp\n",
    "#include  <iostream>\n",
    "#include  <fstream>\n",
    "using namespace std;\n",
    "int main  ()\n",
    "{\n",
    "  ofstream  myfile, myfile2;\n",
    "  myfile.open (\"example.txt\");\n",
    "  myfile  <<  \"Writing  this  to  a file.\\n\";\n",
    "  myfile.close();\n",
    "  myfile2.open (\"example.txt\",ios::app);\n",
    "  myfile2  <<  \"Appending  2nd line this  to same file.\\n\";\n",
    "  myfile2.close();\n",
    "  return  0;\n",
    "}"
   ]
  },
  {
   "cell_type": "code",
   "execution_count": 3,
   "metadata": {},
   "outputs": [],
   "source": [
    "!c++ write.cpp -o write\n",
    "!./write"
   ]
  },
  {
   "cell_type": "code",
   "execution_count": 4,
   "metadata": {},
   "outputs": [
    {
     "name": "stdout",
     "output_type": "stream",
     "text": [
      "Writing  this  to  a file.\r\n",
      "Appending  2nd line this  to same file.\r\n"
     ]
    }
   ],
   "source": [
    "!cat example.txt\n"
   ]
  },
  {
   "cell_type": "code",
   "execution_count": 5,
   "metadata": {},
   "outputs": [
    {
     "name": "stdout",
     "output_type": "stream",
     "text": [
      "#include  <iostream>\r\n",
      "#include  <fstream>\r\n",
      "#include  <string> \r\n",
      "using namespace std; \r\n",
      "int main ()\r\n",
      "{\r\n",
      "  string  line;\r\n",
      "  ifstream myfile (\"example.txt\");\r\n",
      "  if (myfile.is_open())\r\n",
      "  {\r\n",
      "     while ( myfile.good() )\r\n",
      "     {\r\n",
      "        getline (myfile,line); \r\n",
      "        cout << line << endl;\r\n",
      "     }\r\n",
      "     myfile.close();\r\n",
      "   } \r\n",
      "   else\r\n",
      "   cout  <<  \"Unable to  open  file\";\r\n",
      "   return  0;\r\n",
      "}\r\n",
      "\r\n"
     ]
    }
   ],
   "source": [
    "cat fileReadScreenWrite.cpp"
   ]
  },
  {
   "cell_type": "code",
   "execution_count": 6,
   "metadata": {},
   "outputs": [
    {
     "name": "stdout",
     "output_type": "stream",
     "text": [
      "//Demonstrates the standard class string.\r",
      "\r\n",
      "#include <iostream>\r",
      "\r\n",
      "#include <string> \r",
      "\r\n",
      "using namespace std;\r",
      "\r\n",
      "\r",
      "\r\n",
      "int main( )\r",
      "\r\n",
      "{\r",
      "\r\n",
      "    string phrase; \r",
      "\r\n",
      "    string adjective(\"fried\"), noun(\"ants\"); \r",
      "\r\n",
      "    string wish = \"Bon appetite!\"; \r",
      "\r\n",
      "\r",
      "\r\n",
      "    phrase = \"I love \" + adjective + \" \" + noun + \"!\";\r",
      "\r\n",
      "    cout << phrase << endl\r",
      "\r\n",
      "         << wish << endl;\r",
      "\r\n",
      "\r",
      "\r\n",
      "    return 0;\r",
      "\r\n",
      "}\r",
      "\r\n"
     ]
    }
   ],
   "source": [
    "cat string-09-04.cpp"
   ]
  },
  {
   "cell_type": "code",
   "execution_count": 10,
   "metadata": {},
   "outputs": [],
   "source": [
    "!c++ string-09-06.cpp -o string-09-06"
   ]
  },
  {
   "cell_type": "code",
   "execution_count": 12,
   "metadata": {},
   "outputs": [
    {
     "name": "stdout",
     "output_type": "stream",
     "text": [
      "Enter your first and last name:\r\n",
      "Your last name is spelled:\r\n",
      "E b a l u n o d e \r\n",
      "- - - - - - - - - \r\n",
      "Good day Jerry\r\n"
     ]
    }
   ],
   "source": [
    "! echo Jerry Ebalunode | ./string-09-06 "
   ]
  },
  {
   "cell_type": "code",
   "execution_count": 9,
   "metadata": {},
   "outputs": [
    {
     "name": "stdout",
     "output_type": "stream",
     "text": [
      "//Demonstrates using a string object as if it were an array.\r",
      "\r\n",
      "#include <iostream>\r",
      "\r\n",
      "#include <string> \r",
      "\r\n",
      "using namespace std;\r",
      "\r\n",
      "\r",
      "\r\n",
      "int main( )\r",
      "\r\n",
      "{\r",
      "\r\n",
      "    string firstName, lastName; \r",
      "\r\n",
      "\r",
      "\r\n",
      "    cout << \"Enter your first and last name:\\n\";\r",
      "\r\n",
      "    cin >> firstName >> lastName;\r",
      "\r\n",
      "\r",
      "\r\n",
      "    cout << \"Your last name is spelled:\\n\";\r",
      "\r\n",
      "    int i;\r",
      "\r\n",
      "    for (i = 0; i < lastName.length( ); i++)\r",
      "\r\n",
      "    {\r",
      "\r\n",
      "        cout << lastName[i] << \" \";\r",
      "\r\n",
      "        lastName[i] = '-';\r",
      "\r\n",
      "    }\r",
      "\r\n",
      "    cout << endl;\r",
      "\r\n",
      "    for (i = 0; i < lastName.length( ); i++)\r",
      "\r\n",
      "        cout << lastName[i] << \" \"; //Places a \"-\" under each letter.\r",
      "\r\n",
      "    cout << endl;\r",
      "\r\n",
      "\r",
      "\r\n",
      "    cout << \"Good day \" << firstName << endl;\r",
      "\r\n",
      "    return 0;\r",
      "\r\n",
      "}\r",
      "\r\n"
     ]
    }
   ],
   "source": [
    "!cat string-09-06.cpp"
   ]
  },
  {
   "cell_type": "code",
   "execution_count": 16,
   "metadata": {},
   "outputs": [
    {
     "name": "stdout",
     "output_type": "stream",
     "text": [
      "Overwriting book.cpp\n"
     ]
    }
   ],
   "source": [
    "%%writefile book.cpp\n",
    "#include <iostream>\n",
    "#include <string>\n",
    "using namespace std;\n",
    "class Book\n",
    "{\n",
    " public:\n",
    " virtual string getDescription() { return \"Book\"; }\n",
    " string issbn;\n",
    "};\n",
    "\n",
    "class Paperback : public Book\n",
    "{\n",
    " public:\n",
    " virtual string getDescription() {\n",
    " return \"Paperback \" + Book::getDescription();\n",
    "}\n",
    "};\n",
    "\n",
    "class Romance : public Paperback\n",
    "{\n",
    "public:\n",
    "virtual string getDescription() {\n",
    "return \"Romance \" + Paperback::getDescription();\n",
    "}\n",
    "};\n",
    "class Technical : public Book\n",
    "{\n",
    "public:\n",
    "    Technical(string s) {booktype = s; }\n",
    "    \n",
    "virtual string getDescription() {\n",
    "return booktype + \" Technical \" + Book::getDescription();\n",
    "    }\n",
    "    string booktype;\n",
    "};\n",
    "\n",
    "int main()\n",
    "{\n",
    "Romance novel;\n",
    "Book book;\n",
    "Technical medical(\"Computerscience \");\n",
    "// outputs \"Romance Paperback Book”\n",
    "cout << novel.getDescription() << endl;\n",
    "// outputs \"Book\"\n",
    "cout << book.getDescription() << endl;\n",
    "    cout << medical.getDescription() << endl;\n",
    "}"
   ]
  },
  {
   "cell_type": "code",
   "execution_count": 17,
   "metadata": {},
   "outputs": [],
   "source": [
    "!c++ book.cpp -o book\n"
   ]
  },
  {
   "cell_type": "code",
   "execution_count": 18,
   "metadata": {},
   "outputs": [
    {
     "name": "stdout",
     "output_type": "stream",
     "text": [
      "Romance Paperback Book\r\n",
      "Book\r\n",
      "Computerscience  Technical Book\r\n"
     ]
    }
   ],
   "source": [
    "!./book"
   ]
  },
  {
   "cell_type": "code",
   "execution_count": 19,
   "metadata": {},
   "outputs": [
    {
     "name": "stdout",
     "output_type": "stream",
     "text": [
      "//Program to demonstrate STL iterators.\r",
      "\r\n",
      "#include <iostream>\r",
      "\r\n",
      "#include <vector>\r",
      "\r\n",
      "using std::cout;\r",
      "\r\n",
      "using std::endl;\r",
      "\r\n",
      "using std::vector;\r",
      "\r\n",
      "using std::vector<int>::iterator;\r",
      "\r\n",
      "\r",
      "\r\n",
      "int main( )\r",
      "\r\n",
      "{\r",
      "\r\n",
      "    vector<int> container;\r",
      "\r\n",
      "\r",
      "\r\n",
      "    for (int i = 1; i <= 4; i++)\r",
      "\r\n",
      "        container.push_back(i);\r",
      "\r\n",
      "\r",
      "\r\n",
      "    cout << \"Here is what is in the container:\\n\";\r",
      "\r\n",
      "    iterator p;\r",
      "\r\n",
      "    for (p = container.begin( ); p != container.end( ); p++)\r",
      "\r\n",
      "        cout << *p << \" \";\r",
      "\r\n",
      "    cout << endl;\r",
      "\r\n",
      "\r",
      "\r\n",
      "    cout << \"Setting entries to 0:\\n\";\r",
      "\r\n",
      "    for (p = container.begin( ); p != container.end( ); p++)\r",
      "\r\n",
      "         *p = 0;\r",
      "\r\n",
      "    cout << \"Container now contains:\\n\";\r",
      "\r\n",
      " \r",
      "\r\n",
      "    for (p = container.begin( ); p != container.end( ); p++)\r",
      "\r\n",
      "        cout << *p << \" \";\r",
      "\r\n",
      "    cout << endl;\r",
      "\r\n",
      "\r",
      "\r\n",
      "    return 0;\r",
      "\r\n",
      "}\r",
      "\r\n"
     ]
    }
   ],
   "source": [
    "cat stl-19-01.cpp\n"
   ]
  },
  {
   "cell_type": "code",
   "execution_count": 9,
   "metadata": {},
   "outputs": [
    {
     "name": "stdout",
     "output_type": "stream",
     "text": [
      "Overwriting newvector.cpp\n"
     ]
    }
   ],
   "source": [
    "%%writefile newvector.cpp\n",
    "//Program to demonstrate STL iterators.\n",
    "#include <iostream>\n",
    "#include <vector>\n",
    "#include <iterator>\n",
    "#include <cstdlib>\n",
    " \n",
    "using namespace std;\n",
    "\n",
    "int main( )\n",
    "{\n",
    "    vector<int> container;\n",
    "\n",
    "    for (int i = 1; i <= 4; i++)\n",
    "        container.push_back(i);\n",
    "   /* for (int i=0;i< container.size() ;i++)\n",
    "    cout <<  container[i] << endl;\n",
    "    exit(0);\n",
    "*/\n",
    "    cout << \"Here is what is in the container:\\n\";\n",
    "    //vector<int>::iterator p;\n",
    "    auto p =container.begin();\n",
    "    for (p = container.begin( ); p != container.end( ); p++)\n",
    "        cout << *p << \" \";\n",
    "    cout << endl;\n",
    "\n",
    "    cout << \"Setting entries to 0:\\n\";\n",
    "    for (p = container.begin( ); p != container.end( ); p++)\n",
    "         *p = 0;\n",
    "    cout << \"Container now contains:\\n\";\n",
    " \n",
    "    for (p = container.begin( ); p != container.end( ); p++)\n",
    "        cout << *p << \" \";\n",
    "    cout << endl;\n",
    "\n",
    "    return 0;\n",
    "}"
   ]
  },
  {
   "cell_type": "code",
   "execution_count": 15,
   "metadata": {},
   "outputs": [
    {
     "name": "stdout",
     "output_type": "stream",
     "text": [
      "\u001b[0m\u001b[01;36mcodecov\u001b[0m@           \u001b[01;36mgcore-ia\u001b[0m@  \u001b[01;36miccvars.csh\u001b[0m@  \u001b[01;36mifortvars.csh\u001b[0m@  \u001b[01;36mprofmerge\u001b[0m@  \u001b[01;36mxild\u001b[0m@\r\n",
      "\u001b[01;36mcompilervars.csh\u001b[0m@  \u001b[01;36mgdb-ia\u001b[0m@    \u001b[01;36miccvars.sh\u001b[0m@   \u001b[01;36mifortvars.sh\u001b[0m@   \u001b[01;36mproforder\u001b[0m@\r\n",
      "\u001b[01;36mcompilervars.sh\u001b[0m@   \u001b[01;36mgdb-igfx\u001b[0m@  \u001b[01;36micpc\u001b[0m@         \u001b[01;36mmap_opts\u001b[0m@       \u001b[01;36mtselect\u001b[0m@\r\n",
      "\u001b[01;36mfpp\u001b[0m@               \u001b[01;36micc\u001b[0m@       \u001b[01;36mifort\u001b[0m@        \u001b[01;36mprofdcg\u001b[0m@        \u001b[01;36mxiar\u001b[0m@\r\n"
     ]
    }
   ],
   "source": [
    "ls /share/apps/intel/bin"
   ]
  },
  {
   "cell_type": "code",
   "execution_count": 16,
   "metadata": {},
   "outputs": [
    {
     "name": "stdout",
     "output_type": "stream",
     "text": [
      "\r\n",
      "Error: A license for Comp-CL could not be obtained (-1,359,2).\r\n",
      "\r\n",
      "Is your license file in the right location and readable?\r\n",
      "The location of your license file should be specified via\r\n",
      "the $INTEL_LICENSE_FILE environment variable.\r\n",
      "\r\n",
      "License file(s) used were (in this order):\r\n",
      "**  1.  /share/apps/intel/compilers_and_libraries_2018.1.163/linux/licenses\r\n",
      "**  2.  /opt/intel/licenses\r\n",
      "**  3.  /home/jebaluno/intel/licenses\r\n",
      "**  4.  /share/apps/intel/compilers_and_libraries_2018.1.163/linux/bin/intel64/../../Licenses\r\n",
      "**  5.  /home/jebaluno/Licenses\r\n",
      "**  6.  /Users/Shared/Library/Application Support/Intel/Licenses\r\n",
      "**  7.  /share/apps/intel/compilers_and_libraries_2018.1.163/linux/bin/intel64/*.lic\r\n",
      "\r\n",
      "Please refer http://software.intel.com/sites/support/ for more information..\r\n",
      "\r\n",
      "icpc: error #10052: could not checkout FLEXlm license\r\n"
     ]
    }
   ],
   "source": [
    "!source   /share/apps/intel/bin/iccvars.sh intel64 && icpc newvector.cpp -std=c++11  -o newvector && ./newvector"
   ]
  },
  {
   "cell_type": "code",
   "execution_count": 17,
   "metadata": {},
   "outputs": [
    {
     "name": "stdout",
     "output_type": "stream",
     "text": [
      "Here is what is in the container:\r\n",
      "1 2 3 4 \r\n",
      "Setting entries to 0:\r\n",
      "Container now contains:\r\n",
      "0 0 0 0 \r\n"
     ]
    }
   ],
   "source": [
    "!c++ newvector.cpp -std=c++11  -o newvector && ./newvector"
   ]
  },
  {
   "cell_type": "code",
   "execution_count": 30,
   "metadata": {},
   "outputs": [],
   "source": [
    "cp newvector.cpp stl-19-01.cpp\n"
   ]
  },
  {
   "cell_type": "code",
   "execution_count": 36,
   "metadata": {},
   "outputs": [
    {
     "name": "stdout",
     "output_type": "stream",
     "text": [
      "container[0] == A\r\n",
      "container[1] == B\r\n",
      "container[2] == C\r\n",
      "container[3] == D\r\n",
      "The third entry is C\r\n",
      "The third entry is C\r\n",
      "The third entry is C\r\n",
      "Back to container[0].\r\n",
      "which has value A\r\n",
      "Two steps forward and one step back:\r\n",
      "B\r\n",
      "C\r\n",
      "B\r\n"
     ]
    }
   ],
   "source": [
    "!c++ stl-19-02.cpp -o newvector && ./newvector"
   ]
  },
  {
   "cell_type": "code",
   "execution_count": 19,
   "metadata": {},
   "outputs": [
    {
     "name": "stdout",
     "output_type": "stream",
     "text": [
      "Writing setexample.cpp\n"
     ]
    }
   ],
   "source": [
    "%%writefile setexample.cpp\n",
    "\n",
    "//Program to demonstrate use of the set template class.\n",
    "#include <iostream>\n",
    "#include <set>\n",
    "using std::cout;\n",
    "using std::endl;\n",
    "using std::set;\n",
    "\n",
    "int main( )\n",
    "{\n",
    "    set<char> s;\n",
    "\n",
    "    s.insert('A');\n",
    "    s.insert('D');\n",
    "    s.insert('D');\n",
    "    s.insert('C');\n",
    "    s.insert('C');\n",
    "    s.insert('B');\n",
    "\n",
    "    cout << \"The set contains:\\n\";\n",
    "    set<char>::const_iterator p;\n",
    "    for (p = s.begin( ); p != s.end( ); p++)\n",
    "    cout << *p << \" \";\n",
    "    cout << endl;\n",
    "\n",
    "    cout << \"Set contains 'C': \";\n",
    "    if (s.find('C')==s.end( ))\n",
    "\tcout << \" no \" << endl;\n",
    "    else\n",
    "\tcout << \" yes \" << endl;\n",
    "\n",
    "    cout << \"Removing C.\\n\";\n",
    "    s.erase('C');\n",
    "    for (p = s.begin( ); p != s.end( ); p++)\n",
    "    cout << *p << \" \";\n",
    "    cout << endl;\n",
    "\n",
    "    cout << \"Set contains 'C': \";\n",
    "    if (s.find('C')==s.end( ))\n",
    "\tcout << \" no \" << endl;\n",
    "    else\n",
    "\tcout << \" yes \" << endl;\n",
    "\n",
    "    return 0;\n",
    "}\n"
   ]
  },
  {
   "cell_type": "code",
   "execution_count": 20,
   "metadata": {},
   "outputs": [
    {
     "name": "stdout",
     "output_type": "stream",
     "text": [
      "The set contains:\r\n",
      "A B C D \r\n",
      "Set contains 'C':  yes \r\n",
      "Removing C.\r\n",
      "A B D \r\n",
      "Set contains 'C':  no \r\n"
     ]
    }
   ],
   "source": [
    "!c++ setexample.cpp -o setexample && ./setexample"
   ]
  },
  {
   "cell_type": "code",
   "execution_count": 37,
   "metadata": {},
   "outputs": [
    {
     "name": "stdout",
     "output_type": "stream",
     "text": [
      "Overwriting newmap.cpp\n"
     ]
    }
   ],
   "source": [
    "%%writefile newmap.cpp\n",
    "//Program to demonstrate use of the map template class.\n",
    "#include <iostream>\n",
    "#include <map>\n",
    "#include <string>\n",
    "using std::cout;\n",
    "using std::endl;\n",
    "using std::map;\n",
    "using std::string;\n",
    "\n",
    "int main( )\n",
    "{\n",
    "    map<string, string>  ch_to_morse;\n",
    "\n",
    "    ch_to_morse[\"A\"] = \".-\";\n",
    "    ch_to_morse[\"B\"] = \"-...\";\n",
    "    ch_to_morse[\"C\"] = \"-.-.\";\n",
    "    \n",
    "    map<string, string>  morse_to_ch;\n",
    "    for (auto iter =ch_to_morse.begin(); iter != ch_to_morse.end(); iter++)\n",
    "    morse_to_ch[iter->second]= iter->first;\n",
    " \n",
    "    /*\n",
    "    for (auto iter =ch_to_morse.begin(); iter != ch_to_morse.end(); iter++)\n",
    "    {\n",
    "\tcout << iter->first << \" - \" << iter->second << endl;\n",
    "    }\n",
    "    \n",
    "    for (auto iter = morse_to_ch.begin(); iter != morse_to_ch.end(); iter++)\n",
    "    {\n",
    "\tcout << iter->first << \" - \" << iter->second << endl;\n",
    "    }\n",
    "    \n",
    "    */\n",
    "    string tryme=\"CAB\";\n",
    "    for (int i =0;  i<tryme.length();  i++)\n",
    "    cout << tryme[i];\n",
    "    cout<<endl;\n",
    "\n",
    "    return 0;\n",
    "}\n"
   ]
  },
  {
   "cell_type": "code",
   "execution_count": 38,
   "metadata": {},
   "outputs": [
    {
     "name": "stdout",
     "output_type": "stream",
     "text": [
      "CAB\r\n"
     ]
    }
   ],
   "source": [
    "!c++ newmap.cpp -std=c++11 -o newmap && ./newmap"
   ]
  },
  {
   "cell_type": "code",
   "execution_count": null,
   "metadata": {},
   "outputs": [],
   "source": []
  }
 ],
 "metadata": {
  "kernelspec": {
   "display_name": "Python 3",
   "language": "python",
   "name": "python3"
  },
  "language_info": {
   "codemirror_mode": {
    "name": "ipython",
    "version": 3
   },
   "file_extension": ".py",
   "mimetype": "text/x-python",
   "name": "python",
   "nbconvert_exporter": "python",
   "pygments_lexer": "ipython3",
   "version": "3.6.9"
  }
 },
 "nbformat": 4,
 "nbformat_minor": 2
}
